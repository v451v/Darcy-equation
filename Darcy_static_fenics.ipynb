{
 "cells": [
  {
   "cell_type": "markdown",
   "id": "412af769",
   "metadata": {},
   "source": [
    "Theory\n",
    "Darcy: $$ \\vec{u} = - \\frac{K}{\\mu} \\nabla P $$\n",
    "Continuity: $$ \\nabla \\cdot \\vec{u} = 0 $$\n",
    "B.C.: $$ P = 0 \\; \\text{at flow front}$$ $$ \\vec{u} \\cdot \\vec{n} = 0 \\; \\text{at mould wall}$$\n",
    "Cure is exotermic. Analysis must be 3D. \n",
    "\n",
    "The partial differential equations then read\n",
    "\n",
    "$$ \\vec{u} +\\frac{K}{\\mu} \\nabla P = 0 $$\n",
    "$$ \\nabla \\cdot \\vec{u} = 0 $$\n",
    "\n",
    "After multiplying by test functions $\\tau$ and $\\upsilon$, integrating over the domain, and integrating the gradient term by parts, one obtains the following variational formulation: find $\\sigma \\in \\Sigma$ and $v \\in V$ satisfying\n",
    "\n",
    "$$ \\int_{\\Omega} (u \\cdot \\tau + \\frac{K}{\\mu} \\cdot \\nabla \\cdot \\tau \\cdot P) \\ {\\rm d} x = \\int_{\\Gamma} \\tau \\cdot n \\cdot P \\ {\\rm d} s \\quad \\forall \\ \\tau \\in \\Sigma $$\n",
    "\n",
    "$$ \\int_{\\Omega} (\\nabla \\cdot u \\cdot v )\\ {\\rm d} x = 0 $$ \n",
    "\n",
    "Here $n$ denotes the outward pointing normal vector on the boundary. Looking at the variational form, we see that the boundary condition for the flux $\\sigma \\cdot n = g$ is now an essential boundary condition (which should be enforced in the function space), while the other boundary condition $u = u_0$ is a natural boundary condition (which should be applied to the variational form). Inserting the boundary conditions, this variational problem can be phrased in the general form: find $(\\sigma, u) \\in \\Sigma_g \\times V$ such that\n",
    "\n",
    "$$ a((\\sigma, u), (\\tau, v)) = L((\\tau, v)) \\quad \\forall \\ (\\tau, v) \\in \\Sigma_0 \\times V $$\n",
    "\n",
    "where the variational forms \\(a\\) and \\(L\\) are defined as\n",
    "\n",
    "$$ a((u, P), (\\tau, v)) = \\int_{\\Omega} u \\cdot \\tau + \\frac{K}{\\mu} \\cdot \\nabla \\cdot \\tau \\cdot P + \\nabla \\cdot u \\cdot v \\ {\\rm d} x \\\\ $$\n",
    "\n",
    "$$ L((\\tau, v)) = - \\int_{\\Omega} f v \\ {\\rm d} x + \\int_{\\Gamma_D} u_0 \\tau \\cdot n \\ {\\rm d} s $$\n",
    "\n",
    "\n",
    "$f=0$ and $u_0=0$:\n",
    "\n",
    "$$ L((\\tau, v)) = 0  $$\n",
    "\n",
    "and \n",
    "\n",
    "$\\Sigma_g = \\{ \\tau \\in H({\\rm div})$ such that  $\\tau \\cdot n|_{\\Gamma_N} = g \\}$ and $V = L^2(\\Omega)$.\n",
    "\n",
    "\n",
    "\n",
    "\n",
    "Heat equillibrium between resin and mould is valid in slow process (RTM), not in fast process (SRIM). \n",
    "Shell (thin) geometry -> in-plane conduction and transverse convection are negligible. \n",
    "Peclet number low -> heat dispersion due to porosity is negligible.\n",
    "\n",
    "Energy: \n",
    "$$\\left[\\phi (\\rho \\cdot c_p)_f + (1-\\phi)(\\rho \\cdot c_p)_s \\right] \\frac{\\partial T}{\\partial t} (\\rho \\cdot c_p)_f \\cdot \\vec{u} \\cdot \\nabla T = k \\frac{\\partial^2 T}{\\partial z^2} + \\phi \\dot{s}$$\n",
    "\n",
    "$ \\phi = 1 - V_f $ is porosity \n",
    "$ V_f $ is fibre volume fraction \n",
    "$ \\dot{s} $ is source, due to cure\n",
    "$$ \\kappa = \\kappa_f \\frac{(\\kappa_f + \\kappa_r) + (\\kappa_f - \\kappa_r)(1-\\phi)}{(\\kappa_f + \\kappa_r) - (\\kappa_f - \\kappa_r)(1-\\phi)}$$\n",
    "B.C.: look (7), (8)\n",
    "Numerical simulation\n",
    "FE/CV:\n",
    "rough approximation of domain shape\n",
    "mass conservation\n",
    "no remeshing\n",
    "Pressure\n",
    "Bilinear shape functions, Galerkin method (interpolation functions are weighting functions)\n",
    "$$ [S^e] [P] = 0 $$\n",
    "B.C. at injection: $$ [S^e] [P_i] = Q_{bc} $$"
   ]
  },
  {
   "cell_type": "markdown",
   "id": "73b8d93f",
   "metadata": {},
   "source": [
    "1) $ \\text{Прямоугольный домен} $\n",
    "2) $ f, g = 0 => L =0$\n",
    "3) $\\text{Точка инжекции} \\ p_{инж}  = 1, \\text{c координатами} (1,1)$\n",
    "4) $\\text{Точка выхода}   \\ p_{вых}  = 0, \\text{c координатами} (1,3)$"
   ]
  },
  {
   "cell_type": "code",
   "execution_count": 1,
   "id": "75d81719",
   "metadata": {},
   "outputs": [],
   "source": [
    "from __future__ import print_function\n",
    "from fenics import *\n",
    "import matplotlib.pyplot as plt"
   ]
  },
  {
   "cell_type": "code",
   "execution_count": 2,
   "id": "3330874e",
   "metadata": {},
   "outputs": [],
   "source": [
    "# Create mesh and define function space\n",
    "\n",
    "nx, ny = 20, 40\n",
    "mesh   = RectangleMesh(Point(0, 0), Point(2, 4), nx, ny)\n",
    "\n",
    "# V      = VectorElement(\"P\", mesh.ufl_cell(), 2)      # VectorElement(FiniteElement('Lagrange', triangle, 1), dim=2)\n",
    "# Q      = FiniteElement(\"P\", mesh.ufl_cell(), 2)     # FiniteElement('Lagrange', triangle, 1)\n",
    "# W      = FunctionSpace(mesh, MixedElement([V,Q]))\n",
    "\n",
    "Qe      = FiniteElement(\"Lagrange\", mesh.ufl_cell(), 1)\n",
    "Be      = FiniteElement(\"Bubble\",   mesh.ufl_cell(), 4)\n",
    "Ve      = VectorElement(NodalEnrichedElement(Qe, Be))\n",
    "element = MixedElement(Ve,Qe)\n",
    "W       = FunctionSpace(mesh, element)\n",
    "\n",
    "# Define trial and test functions\n",
    "(u, p)   = TrialFunctions(W)\n",
    "(v, q)   = TestFunctions(W)\n",
    "n        = FacetNormal(mesh)"
   ]
  },
  {
   "cell_type": "code",
   "execution_count": 3,
   "id": "002b3331",
   "metadata": {},
   "outputs": [],
   "source": [
    "#Defining subdomains\n",
    "def walls(x, on_boundary):\n",
    "    return near(x[0],0) or near(x[0], 2) or \\\n",
    "           near(x[1],0) or near(x[1], 4) and on_boundary    # Wall contour\n",
    "\n",
    "def b_inj(x):\n",
    "    tol=1E-15\n",
    "    return (abs(x[0] - 0.5) < tol) and (abs(x[1] - 0.5)<tol)    # Injection coordinates  (1,1)\n",
    "\n",
    "def b_out(x):\n",
    "    tol=1E-15\n",
    "    return (abs(x[0] - 1.5) < tol) and (abs(x[1] - 3)<tol)    # Outflow coordinates    (1,3) \n",
    "\n",
    "# def b_bottom(x, on_boundary):\n",
    "#     return near(x[1],0) and on_boundary                     # bottom boundary (x[1]=0)\n",
    "\n",
    "# def b_right(x, on_boundary):\n",
    "#     return near(x[0],2) and on_boundary                     # right boundary (2,0)\n",
    "\n",
    "# def b_left(x, on_boundary):\n",
    "#     return near(x[0],0) and on_boundary                     # left boundary (0,0)"
   ]
  },
  {
   "cell_type": "code",
   "execution_count": 4,
   "id": "d6c629c6",
   "metadata": {},
   "outputs": [],
   "source": [
    "# W.sub(0) - Векторное поле скоростей u;\n",
    "# W.sub(1) - Скалярное поле давления p\n",
    "\n",
    "bc_n     = DirichletBC(W.sub(0), Constant ((0,0)), walls)                       # Neumann on the walls \n",
    "# bc_d     = DirichletBC(W.sub(1), Constant (0),     walls)  \n",
    "bc_in    = DirichletBC(W.sub(1), Constant (1000),    b_inj, method='pointwise')   # Dirichlet (p=1) on injection point (1,1)\n",
    "bc_out   = DirichletBC(W.sub(1), Constant (0),     b_out, method='pointwise')   # Dirichlet (p=0) on out point (1,3)\n",
    "# bc_left  = DirichletBC(W.sub(1), Constant (0),    b_left)                       # Dirichlet (p=0) on left boundary\n",
    "# bc_right = DirichletBC(W.sub(1), Constant (0),   b_right)                       # Dirichlet (p=0) on right boundary\n",
    "# bc_bottom= DirichletBC(W.sub(1), Constant (0),  b_bottom)                       # Dirichlet (p=0) on bottom boundary\n",
    "# bc       = [bc_n, bc_in, bc_out, bc_bottom]"
   ]
  },
  {
   "cell_type": "code",
   "execution_count": 5,
   "id": "3f76c123",
   "metadata": {},
   "outputs": [
    {
     "name": "stdout",
     "output_type": "stream",
     "text": [
      "WARNING: user expression has not supplied value_shape method or an element. Assuming scalar element.\n"
     ]
    }
   ],
   "source": [
    "# Construct a spatially-varying permeability matrix (inverse)\n",
    "k = \"1.0/(exp(-(((x[1] - 0.5 - 0.1*sin(10*x[0]))/0.1)*((x[1] - 0.5 - 0.1*sin(10*x[0]))/0.1))) + 1.0)\"\n",
    "kinv11 = Expression(k, degree = 2)\n",
    "kinv12 = Constant(0.0)\n",
    "kinv21 = Constant(0.0)\n",
    "kinv22 = Expression(k, degree = 2)\n",
    "Kinv = as_matrix(((kinv11, kinv12), (kinv21, kinv22)))\n",
    "\n",
    "# Define variational form\n",
    "class PressureBC(UserExpression):\n",
    "    def eval(self, values, x):\n",
    "        values[0] = 1.0 - x[0]\n",
    "pbar = PressureBC()"
   ]
  },
  {
   "cell_type": "code",
   "execution_count": 6,
   "id": "b426c4be",
   "metadata": {},
   "outputs": [],
   "source": [
    "f        = Expression ('0', degree = 2)\n",
    "g        = Expression ('0', degree = 2)\n",
    "\n",
    "def a(v, q, u, p):\n",
    "    return dot(Kinv*v, u)*dx - div(v)*p*dx + q*div(u)*dx\n",
    "#a =  (dot(u,v) + div(v)*p + div(u)*q)*dx\n",
    "#L =  f*dot(n,v)*ds - g*dot(n,v)*ds\n",
    "\n",
    "a_primal = a(v, q, u, p)\n",
    "L_primal = q*f*dx - inner(v, pbar*n)*ds"
   ]
  },
  {
   "cell_type": "code",
   "execution_count": 7,
   "id": "e22f788c",
   "metadata": {
    "scrolled": false
   },
   "outputs": [
    {
     "name": "stdout",
     "output_type": "stream",
     "text": [
      "Solving linear variational problem.\n"
     ]
    },
    {
     "data": {
      "image/png": "[encoded data removed]",
      "text/plain": [
       "<Figure size 432x288 with 1 Axes>"
      ]
     },
     "metadata": {
      "needs_background": "light"
     },
     "output_type": "display_data"
    },
    {
     "data": {
      "image/png": "[encoded data removed]",
      "text/plain": [
       "<Figure size 432x288 with 1 Axes>"
      ]
     },
     "metadata": {
      "needs_background": "light"
     },
     "output_type": "display_data"
    }
   ],
   "source": [
    "# Compute solution\n",
    "w = Function(W)\n",
    "\n",
    "solve (a_primal==L_primal, w, bcs = [bc_n, bc_in, bc_out])\n",
    "#solve(a==L, w, bc)\n",
    "(u, p) = w.split()\n",
    "\n",
    "file = File(\"flow.pvd\")\n",
    "file << w.split()[0]\n",
    "plot(u, title = 'U')\n",
    "plt.savefig('U.png')\n",
    "plt.show()\n",
    "\n",
    "file = File(\"pressure.pvd\")\n",
    "file << w.split()[1]\n",
    "plot(p, title = 'P')\n",
    "plt.savefig('P.png')\n",
    "plt.show()"
   ]
  },
  {
   "cell_type": "code",
   "execution_count": null,
   "id": "0dec9455",
   "metadata": {},
   "outputs": [],
   "source": []
  },
  {
   "cell_type": "code",
   "execution_count": null,
   "id": "8a90982a",
   "metadata": {},
   "outputs": [],
   "source": []
  }
 ],
 "metadata": {
  "kernelspec": {
   "display_name": "Python 3 (ipykernel)",
   "language": "python",
   "name": "python3"
  },
  "language_info": {
   "codemirror_mode": {
    "name": "ipython",
    "version": 3
   },
   "file_extension": ".py",
   "mimetype": "text/x-python",
   "name": "python",
   "nbconvert_exporter": "python",
   "pygments_lexer": "ipython3",
   "version": "3.9.7"
  }
 },
 "nbformat": 4,
 "nbformat_minor": 5
}