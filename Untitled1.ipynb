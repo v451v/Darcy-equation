{
 "cells": [
  {
   "cell_type": "code",
   "execution_count": 20,
   "id": "f2b1858f",
   "metadata": {},
   "outputs": [],
   "source": [
    "from dolfin import *\n",
    "\n",
    "# Use optimisation for FFC code\n",
    "#parameters.optimize = True\n",
    "\n",
    "# Construct a spatially-varying permeability matrix (inverse)\n",
    "k = \"1.0/(exp(-(((x[1] - 0.5 - 0.1*sin(10*x[0]))/0.1)*((x[1] - 0.5 - 0.1*sin(10*x[0]))/0.1))) + 1.0)\"\n",
    "# k = \"cos(4*pi*x[1]*x[0])/5.0 + 1.0\"\n",
    "kinv11 = Expression(k, degree = 2)\n",
    "kinv12 = Constant(0.0)\n",
    "kinv21 = Constant(0.0)\n",
    "kinv22 = Expression(k, degree = 2)\n",
    "Kinv = as_matrix(((kinv11, kinv12), (kinv21, kinv22)))\n",
    "\n",
    "# Pressure boundary condition\n",
    "class PressureBC(UserExpression):\n",
    "    def eval(self, values, x):\n",
    "        values[0] = 1.0 - x[0]\n",
    "\n",
    "# Define the bilinear form\n",
    "def a(v, q, u, p):\n",
    "    return dot(Kinv*v, u)*dx - div(v)*p*dx + q*div(u)*dx"
   ]
  },
  {
   "cell_type": "code",
   "execution_count": 21,
   "id": "fc924f57",
   "metadata": {},
   "outputs": [
    {
     "name": "stdout",
     "output_type": "stream",
     "text": [
      "WARNING: user expression has not supplied value_shape method or an element. Assuming scalar element.\n"
     ]
    }
   ],
   "source": [
    "# Create mesh and define function spaces\n",
    "#mesh = Mesh(\"../../../data/grad-kinv-mesh.xml.gz\")\n",
    "nx, ny = 20, 40\n",
    "mesh   = RectangleMesh(Point(0, 0), Point(2, 4), nx, ny)\n",
    "n = FacetNormal(mesh)\n",
    "# BDM = FunctionSpace(mesh, \"BDM\", 3)\n",
    "# DG = FunctionSpace(mesh, \"DG\", 2)\n",
    "# V = BDM + DG\n",
    "\n",
    "Qe      = FiniteElement(\"Lagrange\", mesh.ufl_cell(), 1)\n",
    "Be      = FiniteElement(\"Bubble\",   mesh.ufl_cell(), 4)\n",
    "Ve      = VectorElement(NodalEnrichedElement(Qe, Be))\n",
    "element = MixedElement(Ve,Qe)\n",
    "V       = FunctionSpace(mesh, element)\n",
    "\n",
    "# Define variational problem\n",
    "(u, p) = TrialFunctions(V)\n",
    "(v, q) = TestFunctions(V)\n",
    "\n",
    "pbar = PressureBC()\n",
    "f = Constant(0.0)\n",
    "\n",
    "# Pose primal problem\n",
    "a_primal = a(v, q, u, p)\n",
    "L_primal = q*f*dx - inner(v, pbar*n)*ds"
   ]
  },
  {
   "cell_type": "code",
   "execution_count": 22,
   "id": "9fcb5f2b",
   "metadata": {},
   "outputs": [
    {
     "name": "stdout",
     "output_type": "stream",
     "text": [
      "Solve primal problem\n",
      "Solving linear variational problem.\n"
     ]
    },
    {
     "ename": "TypeError",
     "evalue": "cannot unpack non-iterable NoneType object",
     "output_type": "error",
     "traceback": [
      "\u001b[0;31m---------------------------------------------------------------------------\u001b[0m",
      "\u001b[0;31mTypeError\u001b[0m                                 Traceback (most recent call last)",
      "\u001b[0;32m/var/folders/fc/tprn85754qlcddwysszxgmhh0000gn/T/ipykernel_1155/457595532.py\u001b[0m in \u001b[0;36m<module>\u001b[0;34m\u001b[0m\n\u001b[1;32m      3\u001b[0m \u001b[0mw\u001b[0m \u001b[0;34m=\u001b[0m \u001b[0mFunction\u001b[0m\u001b[0;34m(\u001b[0m\u001b[0mV\u001b[0m\u001b[0;34m)\u001b[0m\u001b[0;34m\u001b[0m\u001b[0;34m\u001b[0m\u001b[0m\n\u001b[1;32m      4\u001b[0m \u001b[0;31m#problem_primal = solve()\u001b[0m\u001b[0;34m\u001b[0m\u001b[0;34m\u001b[0m\u001b[0m\n\u001b[0;32m----> 5\u001b[0;31m \u001b[0;34m(\u001b[0m\u001b[0mu_h\u001b[0m\u001b[0;34m,\u001b[0m \u001b[0mp_h\u001b[0m\u001b[0;34m)\u001b[0m \u001b[0;34m=\u001b[0m \u001b[0msolve\u001b[0m\u001b[0;34m(\u001b[0m\u001b[0ma_primal\u001b[0m\u001b[0;34m==\u001b[0m\u001b[0mL_primal\u001b[0m\u001b[0;34m,\u001b[0m \u001b[0mw\u001b[0m\u001b[0;34m)\u001b[0m\u001b[0;34m\u001b[0m\u001b[0;34m\u001b[0m\u001b[0m\n\u001b[0m\u001b[1;32m      6\u001b[0m \u001b[0;34m\u001b[0m\u001b[0m\n\u001b[1;32m      7\u001b[0m \u001b[0;31m# Post-process and plot interesting fields\u001b[0m\u001b[0;34m\u001b[0m\u001b[0;34m\u001b[0m\u001b[0m\n",
      "\u001b[0;31mTypeError\u001b[0m: cannot unpack non-iterable NoneType object"
     ]
    }
   ],
   "source": [
    "# Compute primal solution\n",
    "print (\"Solve primal problem\")\n",
    "w = Function(V)\n",
    "#problem_primal = solve()\n",
    "(u_h, p_h) = solve(a_primal==L_primal, w)\n",
    "\n",
    "# Post-process and plot interesting fields\n",
    "print (\"Projecting velocity to a continuous space\")\n",
    "P1 = VectorFunctionSpace(mesh, \"CG\", 1)\n",
    "u_h_proj = project(u_h, P1)\n",
    "\n",
    "plot(kinv11, title=\"Inverse permeability magnitude\", mesh=mesh)\n",
    "plot(u_h_proj, title=\"Velocity\")\n",
    "plot(p_h, title=\"Pressure\")\n",
    "interactive()\n",
    "\n"
   ]
  },
  {
   "cell_type": "code",
   "execution_count": null,
   "id": "352f36d2",
   "metadata": {},
   "outputs": [],
   "source": []
  },
  {
   "cell_type": "code",
   "execution_count": null,
   "id": "2f977766",
   "metadata": {},
   "outputs": [],
   "source": []
  }
 ],
 "metadata": {
  "kernelspec": {
   "display_name": "Python 3 (ipykernel)",
   "language": "python",
   "name": "python3"
  },
  "language_info": {
   "codemirror_mode": {
    "name": "ipython",
    "version": 3
   },
   "file_extension": ".py",
   "mimetype": "text/x-python",
   "name": "python",
   "nbconvert_exporter": "python",
   "pygments_lexer": "ipython3",
   "version": "3.9.7"
  }
 },
 "nbformat": 4,
 "nbformat_minor": 5
}
