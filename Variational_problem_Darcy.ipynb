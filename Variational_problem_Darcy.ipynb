{
 "cells": [
  {
   "cell_type": "markdown",
   "id": "412af769",
   "metadata": {},
   "source": [
    "Theory\n",
    "Darcy: $$ \\vec{u} = - \\frac{K}{\\mu} \\nabla P $$\n",
    "Continuity: $$ \\nabla \\cdot \\vec{u} = 0 $$\n",
    "B.C.: $$ P = 0 \\; \\text{at flow front}$$ $$ \\vec{u} \\cdot \\vec{n} = 0 \\; \\text{at mould wall}$$\n",
    "Cure is exotermic. Analysis must be 3D. \n",
    "\n",
    "The partial differential equations then read\n",
    "\n",
    "$$ \\vec{u} +\\frac{K}{\\mu} \\nabla P = 0 $$\n",
    "$$ \\nabla \\cdot \\vec{u} = 0 $$\n",
    "\n",
    "After multiplying by test functions $\\tau$ and $\\upsilon$, integrating over the domain, and integrating the gradient term by parts, one obtains the following variational formulation: find $\\sigma \\in \\Sigma$ and $v \\in V$ satisfying\n",
    "\n",
    "$$ \\int_{\\Omega} (u \\cdot \\tau + \\frac{K}{\\mu} \\cdot \\nabla \\cdot \\tau \\cdot P) \\ {\\rm d} x = \\int_{\\Gamma} \\tau \\cdot n \\cdot P \\ {\\rm d} s \\quad \\forall \\ \\tau \\in \\Sigma $$\n",
    "\n",
    "$$ \\int_{\\Omega} (\\nabla \\cdot u \\cdot v )\\ {\\rm d} x = 0 $$ \n",
    "\n",
    "Here $n$ denotes the outward pointing normal vector on the boundary. Looking at the variational form, we see that the boundary condition for the flux $\\sigma \\cdot n = g$ is now an essential boundary condition (which should be enforced in the function space), while the other boundary condition $u = u_0$ is a natural boundary condition (which should be applied to the variational form). Inserting the boundary conditions, this variational problem can be phrased in the general form: find $(\\sigma, u) \\in \\Sigma_g \\times V$ such that\n",
    "\n",
    "$$ a((\\sigma, u), (\\tau, v)) = L((\\tau, v)) \\quad \\forall \\ (\\tau, v) \\in \\Sigma_0 \\times V $$\n",
    "\n",
    "where the variational forms \\(a\\) and \\(L\\) are defined as\n",
    "\n",
    "$$ a((u, P), (\\tau, v)) = \\int_{\\Omega} u \\cdot \\tau + \\frac{K}{\\mu} \\cdot \\nabla \\cdot \\tau \\cdot P + \\nabla \\cdot u \\cdot v \\ {\\rm d} x \\\\ $$\n",
    "\n",
    "$$ L((\\tau, v)) = - \\int_{\\Omega} f v \\ {\\rm d} x + \\int_{\\Gamma_D} u_0 \\tau \\cdot n \\ {\\rm d} s $$\n",
    "\n",
    "\n",
    "$f=0$ and $u_0=0$:\n",
    "\n",
    "$$ L((\\tau, v)) = 0  $$\n",
    "\n",
    "and \n",
    "\n",
    "$\\Sigma_g = \\{ \\tau \\in H({\\rm div})$ such that  $\\tau \\cdot n|_{\\Gamma_N} = g \\}$ and $V = L^2(\\Omega)$.\n",
    "\n",
    "\n",
    "\n",
    "\n",
    "Heat equillibrium between resin and mould is valid in slow process (RTM), not in fast process (SRIM). \n",
    "Shell (thin) geometry -> in-plane conduction and transverse convection are negligible. \n",
    "Peclet number low -> heat dispersion due to porosity is negligible.\n",
    "\n",
    "Energy: \n",
    "$$\\left[\\phi (\\rho \\cdot c_p)_f + (1-\\phi)(\\rho \\cdot c_p)_s \\right] \\frac{\\partial T}{\\partial t} (\\rho \\cdot c_p)_f \\cdot \\vec{u} \\cdot \\nabla T = k \\frac{\\partial^2 T}{\\partial z^2} + \\phi \\dot{s}$$\n",
    "\n",
    "$ \\phi = 1 - V_f $ is porosity \n",
    "$ V_f $ is fibre volume fraction \n",
    "$ \\dot{s} $ is source, due to cure\n",
    "$$ \\kappa = \\kappa_f \\frac{(\\kappa_f + \\kappa_r) + (\\kappa_f - \\kappa_r)(1-\\phi)}{(\\kappa_f + \\kappa_r) - (\\kappa_f - \\kappa_r)(1-\\phi)}$$\n",
    "B.C.: look (7), (8)\n",
    "Numerical simulation\n",
    "FE/CV:\n",
    "rough approximation of domain shape\n",
    "mass conservation\n",
    "no remeshing\n",
    "Pressure\n",
    "Bilinear shape functions, Galerkin method (interpolation functions are weighting functions)\n",
    "$$ [S^e] [P] = 0 $$\n",
    "B.C. at injection: $$ [S^e] [P_i] = Q_{bc} $$"
   ]
  },
  {
   "cell_type": "markdown",
   "id": "73b8d93f",
   "metadata": {},
   "source": [
    "# 1) $ \\text{Прямоугольный домен} $\n",
    "# 2) $ f, g = 0 => L =0$\n",
    "# 3) $\\text{Точка инжекции} \\ p_{инж}  = 1, \\text{c координатами} (1,1)$\n",
    "# 4) $\\text{Точка выхода}   \\ p_{вых}  = 0, \\text{c координатами} (1,3)$"
   ]
  },
  {
   "cell_type": "code",
   "execution_count": 1,
   "id": "75d81719",
   "metadata": {},
   "outputs": [],
   "source": [
    "from __future__ import print_function\n",
    "from fenics import *\n",
    "import matplotlib.pyplot as plt"
   ]
  },
  {
   "cell_type": "code",
   "execution_count": 2,
   "id": "3330874e",
   "metadata": {},
   "outputs": [],
   "source": [
    "# Create mesh and define function space\n",
    "\n",
    "nx, ny = 20, 40\n",
    "mesh   = RectangleMesh(Point(0, 0), Point(2, 4), nx, ny)\n",
    "\n",
    "BDM = FiniteElement(\"BDM\", mesh.ufl_cell(), 1)\n",
    "DG  = FiniteElement(\"DG\", mesh.ufl_cell(), 0)\n",
    "W = FunctionSpace(mesh, BDM * DG)\n",
    "\n",
    "H = Function(W)\n",
    "u,p = split (H)\n",
    "(v, q)   = TestFunctions(W)\n",
    "n        = FacetNormal(mesh)\n",
    "\n",
    "F = (dot(u,v) - div(v)*p - div(u)*q)*dx"
   ]
  },
  {
   "cell_type": "code",
   "execution_count": 3,
   "id": "002b3331",
   "metadata": {},
   "outputs": [],
   "source": [
    "def b_right(x, on_boundary):\n",
    "    return near(x[0],2) and on_boundary                     # right boundary (2,0)\n",
    "\n",
    "def b_left(x, on_boundary):\n",
    "    return near(x[0],0) and on_boundary                     # left boundary (0,0)\n",
    "\n",
    "# W.sub(0) - Векторное поле скоростей u;\n",
    "# W.sub(1) - Скалярное поле давления p\n",
    "\n",
    "bc_left  = DirichletBC(W.sub(1), Constant (1),    b_left)                       # Dirichlet (p=0) on left boundary\n",
    "bc_right = DirichletBC(W.sub(1), Constant (0),   b_right)                       # Dirichlet (p=0) on right boundary"
   ]
  },
  {
   "cell_type": "code",
   "execution_count": 4,
   "id": "e1973476",
   "metadata": {},
   "outputs": [
    {
     "name": "stdout",
     "output_type": "stream",
     "text": [
      "Solving nonlinear variational problem.\n",
      "  Newton iteration 0: r (abs) = 0.000e+00 (tol = 1.000e-10) r (rel) = nan (tol = 1.000e-09)\n",
      "  Newton solver finished in 0 iterations and 0 linear solver iterations.\n"
     ]
    },
    {
     "name": "stderr",
     "output_type": "stream",
     "text": [
      "/Users/ivanvasilev/opt/anaconda3/envs/fenicsproject/lib/python3.9/site-packages/matplotlib/quiver.py:679: RuntimeWarning: divide by zero encountered in double_scalars\n",
      "  length = a * (widthu_per_lenu / (self.scale * self.width))\n",
      "/Users/ivanvasilev/opt/anaconda3/envs/fenicsproject/lib/python3.9/site-packages/matplotlib/quiver.py:679: RuntimeWarning: invalid value encountered in multiply\n",
      "  length = a * (widthu_per_lenu / (self.scale * self.width))\n"
     ]
    },
    {
     "data": {
      "image/png": "[encoded data removed]",
      "text/plain": [
       "<Figure size 432x288 with 1 Axes>"
      ]
     },
     "metadata": {
      "needs_background": "light"
     },
     "output_type": "display_data"
    },
    {
     "data": {
      "image/png": "[encoded data removed]",
      "text/plain": [
       "<Figure size 432x288 with 1 Axes>"
      ]
     },
     "metadata": {
      "needs_background": "light"
     },
     "output_type": "display_data"
    }
   ],
   "source": [
    "# Compute primal solution\n",
    "w = Function(W)\n",
    "J = derivative(F, w)\n",
    "solve(F == 0, w, J=J, bcs = [bc_left, bc_right])\n",
    "(u, p) = w.split()\n",
    "\n",
    "#file = File(\"flow.pvd\")\n",
    "plot(u, title = 'U')\n",
    "#plt.savefig('Velocity.png')\n",
    "plt.show()\n",
    "\n",
    "#file = File(\"pressure.pvd\")\n",
    "plot(p, title = 'Pressure')\n",
    "#plt.savefig('P.png')\n",
    "plt.show()"
   ]
  },
  {
   "cell_type": "code",
   "execution_count": null,
   "id": "b0d39eb0",
   "metadata": {},
   "outputs": [],
   "source": []
  }
 ],
 "metadata": {
  "kernelspec": {
   "display_name": "Python 3 (ipykernel)",
   "language": "python",
   "name": "python3"
  },
  "language_info": {
   "codemirror_mode": {
    "name": "ipython",
    "version": 3
   },
   "file_extension": ".py",
   "mimetype": "text/x-python",
   "name": "python",
   "nbconvert_exporter": "python",
   "pygments_lexer": "ipython3",
   "version": "3.9.7"
  }
 },
 "nbformat": 4,
 "nbformat_minor": 5
}
