{
 "cells": [
  {
   "cell_type": "code",
   "execution_count": 2,
   "id": "486d73a5",
   "metadata": {},
   "outputs": [
    {
     "name": "stdout",
     "output_type": "stream",
     "text": [
      "Calling FFC just-in-time (JIT) compiler, this may take some time.\n",
      "Calling FFC just-in-time (JIT) compiler, this may take some time.\n",
      "Solving linear variational problem.\n"
     ]
    },
    {
     "data": {
      "image/png": "[encoded data removed]",
      "text/plain": [
       "<Figure size 432x288 with 1 Axes>"
      ]
     },
     "metadata": {
      "needs_background": "light"
     },
     "output_type": "display_data"
    }
   ],
   "source": [
    "from dolfin import *\n",
    "import matplotlib.pyplot as plt\n",
    "\n",
    "# Create mesh and define function space\n",
    "\n",
    "nx, ny = 20, 40\n",
    "mesh   = RectangleMesh(Point(0, 0), Point(2, 4), nx, ny)\n",
    "\n",
    "\n",
    "V = FunctionSpace(mesh, \"Lagrange\", 1)\n",
    "\n",
    "def b_inj(x):\n",
    "    tol=1E-15\n",
    "    return (abs(x[0] - 1) < tol) and (abs(x[1] - 1)<tol)    # Injection coordinates  (1,1)\n",
    "\n",
    "def b_out(x):\n",
    "    tol=1E-15\n",
    "    return (abs(x[0] - 1) < tol) and (abs(x[1] - 3)<tol)    # Outflow coordinates    (1,3) \n",
    "\n",
    "def b_left(x, on_boundary):\n",
    "    return near(x[0],0) and on_boundary                     # left boundary (0,0)\n",
    "\n",
    "def b_right(x, on_boundary):\n",
    "    return near(x[0],2) and on_boundary                     # left boundary (2,0) \n",
    "\n",
    "\n",
    "# Define boundary condition\n",
    "#bc_top = DirichletBC(V, Constant(0.0), boundary_top)\n",
    "#bc_bottom = DirichletBC(V, Constant(1.0), boundary_bottom)\n",
    "\n",
    "bc_in    = DirichletBC(V, Constant (1.0),  b_inj, method='pointwise')   # Dirichlet (p=1) on injection point (1,1)\n",
    "bc_out   = DirichletBC(V, Constant (0.0),  b_out, method='pointwise')   # Dirichlet (p=0) on out point (1,3)\n",
    "bc_left  = DirichletBC(V, Constant (0),    b_left)                       # Dirichlet (p=1) on left boundary\n",
    "bc_right = DirichletBC(V, Constant (1),    b_right)                       # Dirichlet (p=1) on left boundary\n",
    "\n",
    "\n",
    "bcs = [bc_in, bc_out, bc_left, bc_right]  #[bc_top, bc_bottom]\n",
    "\n",
    "# Define variational problem\n",
    "u = TrialFunction(V)\n",
    "v = TestFunction(V)\n",
    "f = Expression(\"0\", degree=2)\n",
    "a = inner(grad(u), grad(v))*dx\n",
    "L = f*v*dx\n",
    "\n",
    "# Compute solution\n",
    "u = Function(V)\n",
    "solve(a == L, u, bcs)\n",
    "\n",
    "plot(u)\n",
    "plt.show()"
   ]
  },
  {
   "cell_type": "code",
   "execution_count": null,
   "id": "bc22f6f8",
   "metadata": {},
   "outputs": [],
   "source": []
  },
  {
   "cell_type": "code",
   "execution_count": null,
   "id": "b2f30253",
   "metadata": {},
   "outputs": [],
   "source": []
  }
 ],
 "metadata": {
  "kernelspec": {
   "display_name": "Python 3 (ipykernel)",
   "language": "python",
   "name": "python3"
  },
  "language_info": {
   "codemirror_mode": {
    "name": "ipython",
    "version": 3
   },
   "file_extension": ".py",
   "mimetype": "text/x-python",
   "name": "python",
   "nbconvert_exporter": "python",
   "pygments_lexer": "ipython3",
   "version": "3.9.7"
  }
 },
 "nbformat": 4,
 "nbformat_minor": 5
}
